{
 "cells": [
  {
   "cell_type": "code",
   "execution_count": 1,
   "metadata": {},
   "outputs": [],
   "source": [
    "import pandas as pd\n",
    "import seaborn as sns\n",
    "import matplotlib.pyplot as plt"
   ]
  },
  {
   "cell_type": "code",
   "execution_count": 2,
   "metadata": {
    "tags": []
   },
   "outputs": [],
   "source": [
    "training_accuracy = {\n",
    "    1: {1: 82.3708, 2: 82.2739, 3: 82.3761, 4: 82.2996, 5: 82.3045},\n",
    "    2: {1: 82.3341, 2: 82.3436, 3: 82.3864, 4: 82.2996, 5: 82.3045},\n",
    "    3: {1: 82.3436, 2: 82.3795, 3: 82.4390, 4: 82.2996, 5: 82.3045},\n",
    "    4: {1: 82.3436, 2: 82.3826, 3: 82.3629, 4: 82.3341, 5: 82.3045},\n",
    "    5: {1: 82.3485, 2: 82.3795, 3: 82.3629, 4: 82.3708, 5: 82.3091},\n",
    "}\n",
    "\n",
    "accuracy = {\n",
    "    1: {1: 82.208, 2: 82.203, 3: 82.1415, 4: 82.2685, 5: 82.385},\n",
    "    2: {1: 82.2705, 2: 82.114, 3: 82.1365, 4: 82.2685, 5: 82.385},\n",
    "    3: {1: 82.2545, 2: 82.2665, 3: 82.0825, 4: 82.2685, 5: 82.385},\n",
    "    4: {1: 82.2705, 2: 82.278, 3: 82.226, 4: 82.1805, 5: 82.385},\n",
    "    5: {1: 82.2645, 2: 82.2665, 3: 82.223, 4: 82.322, 5: 82.323},\n",
    "}"
   ]
  },
  {
   "cell_type": "code",
   "execution_count": 3,
   "metadata": {},
   "outputs": [
    {
     "data": {
      "text/html": [
       "<div>\n",
       "<style scoped>\n",
       "    .dataframe tbody tr th:only-of-type {\n",
       "        vertical-align: middle;\n",
       "    }\n",
       "\n",
       "    .dataframe tbody tr th {\n",
       "        vertical-align: top;\n",
       "    }\n",
       "\n",
       "    .dataframe thead th {\n",
       "        text-align: right;\n",
       "    }\n",
       "</style>\n",
       "<table border=\"1\" class=\"dataframe\">\n",
       "  <thead>\n",
       "    <tr style=\"text-align: right;\">\n",
       "      <th></th>\n",
       "      <th>1</th>\n",
       "      <th>2</th>\n",
       "      <th>3</th>\n",
       "      <th>4</th>\n",
       "      <th>5</th>\n",
       "    </tr>\n",
       "  </thead>\n",
       "  <tbody>\n",
       "    <tr>\n",
       "      <th>1</th>\n",
       "      <td>82.2080</td>\n",
       "      <td>82.2705</td>\n",
       "      <td>82.2545</td>\n",
       "      <td>82.2705</td>\n",
       "      <td>82.2645</td>\n",
       "    </tr>\n",
       "    <tr>\n",
       "      <th>2</th>\n",
       "      <td>82.2030</td>\n",
       "      <td>82.1140</td>\n",
       "      <td>82.2665</td>\n",
       "      <td>82.2780</td>\n",
       "      <td>82.2665</td>\n",
       "    </tr>\n",
       "    <tr>\n",
       "      <th>3</th>\n",
       "      <td>82.1415</td>\n",
       "      <td>82.1365</td>\n",
       "      <td>82.0825</td>\n",
       "      <td>82.2260</td>\n",
       "      <td>82.2230</td>\n",
       "    </tr>\n",
       "    <tr>\n",
       "      <th>4</th>\n",
       "      <td>82.2685</td>\n",
       "      <td>82.2685</td>\n",
       "      <td>82.2685</td>\n",
       "      <td>82.1805</td>\n",
       "      <td>82.3220</td>\n",
       "    </tr>\n",
       "    <tr>\n",
       "      <th>5</th>\n",
       "      <td>82.3850</td>\n",
       "      <td>82.3850</td>\n",
       "      <td>82.3850</td>\n",
       "      <td>82.3850</td>\n",
       "      <td>82.3230</td>\n",
       "    </tr>\n",
       "  </tbody>\n",
       "</table>\n",
       "</div>"
      ],
      "text/plain": [
       "         1        2        3        4        5\n",
       "1  82.2080  82.2705  82.2545  82.2705  82.2645\n",
       "2  82.2030  82.1140  82.2665  82.2780  82.2665\n",
       "3  82.1415  82.1365  82.0825  82.2260  82.2230\n",
       "4  82.2685  82.2685  82.2685  82.1805  82.3220\n",
       "5  82.3850  82.3850  82.3850  82.3850  82.3230"
      ]
     },
     "execution_count": 3,
     "metadata": {},
     "output_type": "execute_result"
    }
   ],
   "source": [
    "df_train = pd.DataFrame().from_dict(training_accuracy)\n",
    "df_val = pd.DataFrame().from_dict(accuracy)\n",
    "\n",
    "df_train\n",
    "df_val"
   ]
  },
  {
   "cell_type": "code",
   "execution_count": 4,
   "metadata": {},
   "outputs": [
    {
     "data": {
      "image/png": "[encoded data removed]",
      "text/plain": [
       "<Figure size 432x360 with 2 Axes>"
      ]
     },
     "metadata": {
      "needs_background": "light"
     },
     "output_type": "display_data"
    },
    {
     "data": {
      "image/png": "[encoded data removed]",
      "text/plain": [
       "<Figure size 432x360 with 2 Axes>"
      ]
     },
     "metadata": {
      "needs_background": "light"
     },
     "output_type": "display_data"
    }
   ],
   "source": [
    "plt.figure(figsize=(6, 5))\n",
    "p1 = sns.heatmap(\n",
    "    df_train,\n",
    "    linewidth=.5,\n",
    "    fmt=\".1f\",\n",
    "    cmap=\"crest\",\n",
    "    square=True\n",
    ")\n",
    "p1.set(xlabel=\"Hyperfold\", ylabel=\"Fold\", title=\"Variations on Training Accuracy Across Nested Resampling\")\n",
    "plt.savefig('heatmap_test.png')\n",
    "\n",
    "plt.figure(figsize=(6, 5))\n",
    "p1 = sns.heatmap(\n",
    "    df_val,\n",
    "    linewidth=.5,\n",
    "    fmt=\".1f\",\n",
    "    cmap=\"crest\",\n",
    "    square=True\n",
    ")\n",
    "p1.set(xlabel=\"Hyperfold\", ylabel=\"Fold\", title=\"Variations on Validation Accuracy Across Nested Resampling\")\n",
    "plt.savefig('heatmap_valid.png')"
   ]
  },
  {
   "cell_type": "markdown",
   "metadata": {},
   "source": [
    "# plt.figure(figsize=(20, 20))\n",
    "df['mean'] = df.mean(axis=1)\n",
    "df['min'] = df.min(axis=1)\n",
    "df['max'] = df.max(axis=1)\n",
    "aggregate_df = pd.DataFrame({'Classifier': ['Gradient Boosting', 'Random Forest', 'Decision Tree', 'KNN', 'SVM', 'Logistical'], 'Minimum': df['min'], 'Mean': df['mean'], 'Maximum': df['max']})\n",
    "ax = aggregate_df.plot.bar(x='Classifier', y='Mean', ylim=(72, 85))\n",
    "ax.set(xlabel=\"Classifier\", ylabel=\"Average Accuracy\", title=\"Mean Accuracy per Classifier\")\n",
    "plt.xticks(rotation=-45)\n",
    "ax.get_legend().remove()\n",
    "plt.savefig('average_accuracy.png')"
   ]
  },
  {
   "cell_type": "code",
   "execution_count": 5,
   "metadata": {},
   "outputs": [
    {
     "ename": "NameError",
     "evalue": "name 'aggregate_df' is not defined",
     "output_type": "error",
     "traceback": [
      "\u001b[0;31m---------------------------------------------------------------------------\u001b[0m",
      "\u001b[0;31mNameError\u001b[0m                                 Traceback (most recent call last)",
      "\u001b[0;32m/tmp/ipykernel_8034/2603900253.py\u001b[0m in \u001b[0;36m<module>\u001b[0;34m\u001b[0m\n\u001b[0;32m----> 1\u001b[0;31m \u001b[0maggregate_df\u001b[0m\u001b[0;34m\u001b[0m\u001b[0;34m\u001b[0m\u001b[0m\n\u001b[0m",
      "\u001b[0;31mNameError\u001b[0m: name 'aggregate_df' is not defined"
     ]
    }
   ],
   "source": [
    "aggregate_df"
   ]
  },
  {
   "cell_type": "code",
   "execution_count": null,
   "metadata": {},
   "outputs": [],
   "source": []
  }
 ],
 "metadata": {
  "kernelspec": {
   "display_name": "Python 3 (ipykernel)",
   "language": "python",
   "name": "python3"
  },
  "language_info": {
   "codemirror_mode": {
    "name": "ipython",
    "version": 3
   },
   "file_extension": ".py",
   "mimetype": "text/x-python",
   "name": "python",
   "nbconvert_exporter": "python",
   "pygments_lexer": "ipython3",
   "version": "3.10.10"
  },
  "vscode": {
   "interpreter": {
    "hash": "a2634c8e4f9628667c922a26297ee79527fce05bc3355cae0b443ea3dc355e5a"
   }
  }
 },
 "nbformat": 4,
 "nbformat_minor": 4
}
